{
 "cells": [
  {
   "cell_type": "code",
   "execution_count": 13,
   "metadata": {},
   "outputs": [
    {
     "name": "stdout",
     "output_type": "stream",
     "text": [
      "0.95\n",
      "1095.8429611\n"
     ]
    },
    {
     "data": {
      "image/png": "[encoded data removed]",
      "text/plain": [
       "<matplotlib.figure.Figure at 0x106170090>"
      ]
     },
     "metadata": {},
     "output_type": "display_data"
    }
   ],
   "source": [
    "import pandas as pd\n",
    "import numpy as np \n",
    "%matplotlib inline\n",
    "import matplotlib\n",
    "matplotlib.use('Agg')\n",
    "import matplotlib.pyplot as plt \n",
    "\n",
    "def parseData(index, value):\n",
    "    if index == 0 or index == 1 or index == 2 or index == 3 or index == 4:\n",
    "        return int(value)\n",
    "    else:\n",
    "        return float(value)\n",
    "\n",
    "f = open('results/1510670606_full_vector_encoder_1_0_8_134217728')\n",
    "\n",
    "data = []\n",
    "\n",
    "for line in f:\n",
    "    temp = line.split(',')\n",
    "    index = 0\n",
    "    for item in temp: \n",
    "        temp[index] = parseData(index, item)\n",
    "        index = index + 1\n",
    "    data.append(temp)\n",
    "    \n",
    "        \n",
    "    \n",
    "    \n",
    "throughput = []\n",
    "latency = []\n",
    "\n",
    "for entry in data: \n",
    "    throughput.append(entry[5])\n",
    "    latency.append(entry[6])\n",
    "latency = [lat/(1000) for lat in latency]\n",
    "throughput = [th/(1000) for th in throughput] \n",
    "print(throughput[0])\n",
    "\n",
    "avg_latency = 0.0\n",
    "for val in latency:\n",
    "    avg_latency = avg_latency + val\n",
    "    \n",
    "avg_latency = avg_latency / len(latency)\n",
    "print avg_latency\n",
    "\n",
    "#df = pd.DataFrame(data, columns=['a'])\n",
    "#df.plot(kind='scatter', x='a')\n",
    "pd.DataFrame\n",
    "fig = plt.figure()\n",
    "ts = pd.Series(throughput)\n",
    "pd.to_numeric(ts)\n",
    "throughput_line = ts.plot(label='test', marker='o', linestyle='--')\n",
    "\n",
    "ts_2 = pd.Series(latency)\n",
    "pd.to_numeric(ts_2)\n",
    "latency_line  = ts_2.plot(marker='^', linestyle='--')\n",
    "plt.legend(['bytes/ms', 'Latency (Millisecons)'])\n",
    "plt.ylabel('bytes/ms | microseconds')\n",
    "plt.xlabel('# Data point')\n",
    "fig.savefig('results/graphs/full_vector_0_64_16.eps')\n",
    "plt.show()"
   ]
  },
  {
   "cell_type": "code",
   "execution_count": 27,
   "metadata": {},
   "outputs": [
    {
     "data": {
      "image/png": "[encoded data removed]",
      "text/plain": [
       "<matplotlib.figure.Figure at 0x1129fd510>"
      ]
     },
     "metadata": {},
     "output_type": "display_data"
    }
   ],
   "source": [
    "## Generation Size: 8 \n",
    "## Full Vector - latency \n",
    "import pandas as pd\n",
    "import numpy as np \n",
    "%matplotlib inline\n",
    "import matplotlib\n",
    "matplotlib.use('Agg')\n",
    "import matplotlib.pyplot as plt \n",
    "\n",
    "def parseData(index, value):\n",
    "    if index == 0 or index == 1 or index == 2 or index == 3 or index == 4:\n",
    "        return int(value)\n",
    "    else:\n",
    "        return float(value)\n",
    "\n",
    "def get_latency(file_name):\n",
    "    file = open(file_name)\n",
    "    data = []\n",
    "    for line in file:\n",
    "        temp = line.split(',')\n",
    "        index = 0\n",
    "        for item in temp: \n",
    "            temp[index] = parseData(index, item)\n",
    "            index = index + 1\n",
    "        data.append(temp)\n",
    "    latency = [entry[6]/1000 for entry in data] # convert to milliseconds \n",
    "    return np.average(latency)\n",
    "    \n",
    "one_kb = 'results/1510751197_full_vector_encoder_1_0_8_128'\n",
    "one_mb = 'results/1510751438_full_vector_encoder_1_0_8_131072'\n",
    "ten_mb = 'results/1510752389_full_vector_encoder_1_0_8_1310720'\n",
    "twenty_mb = 'results/1510822030_full_vector_encoder_1_0_8_2621440'\n",
    "thirdy_two_mb = 'results/1510824925_full_vector_encoder_1_0_8_4194304'\n",
    "sixty_four_mb = 'results/1510836357_full_vector_encoder_1_0_8_8388608'\n",
    "one_hundre_and_twenty_eight_mb = 'results/1510847597_full_vector_encoder_1_0_8_16777216'\n",
    "two_hundre_and_fifty_six_mb = 'results/1510927849_full_vector_encoder_1_0_8_33554432'\n",
    "five_hundre_and_twelve_mb = 'results/1510972685_full_vector_encoder_1_0_8_67108864'\n",
    "\n",
    "latencies = {}\n",
    "\n",
    "latencies[0] = get_latency(one_kb)\n",
    "latencies[1] = get_latency(one_mb)\n",
    "latencies[2] = get_latency(ten_mb)\n",
    "latencies[3] = get_latency(twenty_mb)\n",
    "latencies[4] = get_latency(thirdy_two_mb)\n",
    "latencies[5] = get_latency(sixty_four_mb)\n",
    "latencies[6] = get_latency(one_hundre_and_twenty_eight_mb)\n",
    "latencies[7] = get_latency(two_hundre_and_fifty_six_mb)\n",
    "latencies[8] = get_latency(five_hundre_and_twelve_mb)\n",
    "\n",
    "data_size = np.array(latencies.keys())\n",
    "latency = np.array(latencies.values())\n",
    "pd.DataFrame\n",
    "fig = plt.figure()\n",
    "my_xticks = ['1kB','1MB','10MB','20MB','32MB','64MB','128MB','256MB','512MB']\n",
    "plt.xticks(data_size, my_xticks)\n",
    "plt.plot(data_size, latency)\n",
    "plt.ylabel('Latency in ms')\n",
    "plt.xlabel('Data size')\n",
    "fig.savefig('results/graphs/full_vector_gen_8.eps')\n",
    "plt.show()\n"
   ]
  },
  {
   "cell_type": "code",
   "execution_count": null,
   "metadata": {
    "collapsed": true
   },
   "outputs": [],
   "source": []
  }
 ],
 "metadata": {
  "kernelspec": {
   "display_name": "Python 2",
   "language": "python",
   "name": "python2"
  },
  "language_info": {
   "codemirror_mode": {
    "name": "ipython",
    "version": 2
   },
   "file_extension": ".py",
   "mimetype": "text/x-python",
   "name": "python",
   "nbconvert_exporter": "python",
   "pygments_lexer": "ipython2",
   "version": "2.7.12"
  }
 },
 "nbformat": 4,
 "nbformat_minor": 2
}
